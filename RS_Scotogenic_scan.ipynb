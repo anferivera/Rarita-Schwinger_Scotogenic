{
 "cells": [
  {
   "cell_type": "markdown",
   "metadata": {},
   "source": [
    "## Rarita Schwinger SCAN"
   ]
  },
  {
   "cell_type": "code",
   "execution_count": 4,
   "metadata": {},
   "outputs": [],
   "source": [
    "import numpy as np\n",
    "import pandas as pd\n",
    "import subprocess\n",
    "import time\n",
    "import sys\n",
    "import os\n",
    "import signal\n",
    "\n",
    "from io import StringIO\n",
    "\n",
    "%matplotlib inline\n",
    "import matplotlib.pyplot as plt "
   ]
  },
  {
   "cell_type": "code",
   "execution_count": 5,
   "metadata": {},
   "outputs": [],
   "source": [
    "#Benchmark point\n",
    "timeout_s = 3600\n",
    "lamL      = 1.0\n",
    "lam2      = 0.000001\n",
    "lam6      = 0.000002\n",
    "lam7      = 0.000003\n",
    "mmh       = 125.1\n",
    "mmV0      = 100.0\n",
    "mmA0      = 101.0\n",
    "mmVm      = 101.1\n",
    "kp1       = 0.0\n",
    "kp2       = 0.0\n",
    "Yn11      = 1.59\n",
    "Yn12      = 0.0\n",
    "Yn13      = 0.0\n",
    "Yn21      = 0.0\n",
    "Yn22      = 0.0\n",
    "Yn23      = 0.0\n",
    "Yn31      = 0.0\n",
    "Yn32      = 0-0\n",
    "Yn33      = 0.0\n",
    "MNN1      = 10.0\n",
    "MNN2      = 200.0  \n",
    "MNN3      = 300.0  "
   ]
  },
  {
   "cell_type": "code",
   "execution_count": 34,
   "metadata": {},
   "outputs": [],
   "source": [
    "NUM = 20\n",
    "x=[]\n",
    "\n",
    "MNN1      = 1.0\n",
    "for i in range(0,NUM):\n",
    "    \n",
    "    #Change MNN1 mass\n",
    "    MNN1 = MNN1 +1\n",
    "\n",
    "    #Write data into data.par for micrOMEGAs\n",
    "    first=f\"lamL {lamL}\\\n",
    "    \\nlam2 {lam2}\\\n",
    "    \\nlam6 {lam6}\\\n",
    "    \\nlam7 {lam7}\\\n",
    "    \\nmmh  {mmh}\\\n",
    "    \\nmmV0 {mmV0}\\\n",
    "    \\nmmA0 {mmA0}\\\n",
    "    \\nmmVm {mmVm}\\\n",
    "    \\nkp1  {kp1}\\\n",
    "    \\nkp2  {kp2}\\\n",
    "    \\nYn11 {Yn11}\\\n",
    "    \\nYn12 {Yn12}\\\n",
    "    \\nYn13 {Yn13}\\\n",
    "    \\nYn21 {Yn21}\\\n",
    "    \\nYn22 {Yn22}\\\n",
    "    \\nYn23 {Yn23}\\\n",
    "    \\nYn31 {Yn31}\\\n",
    "    \\nYn32 {Yn32}\\\n",
    "    \\nYn33 {Yn33}\\\n",
    "    \\nMNN1 {MNN1}\\\n",
    "    \\nMNN2 {MNN2}\\\n",
    "    \\nMNN3 {MNN3}\"\n",
    "    archive = open('data.par','w')\n",
    "    archive.write(first)\n",
    "    archive.close()\n",
    "    \n",
    "    mo = subprocess.getoutput('~/Work/micromegas_6.0.3/RS_Scotogenic/relic_density data.par')\n",
    "\n",
    "    Omega = eval(mo.split('Omega=')[1].split()[0])\n",
    "\n",
    "    x.append([lamL,lam2,lam6,lam7,mmV0,mmA0,mmVm,kp1,kp2,Yn11,Yn12,Yn13,Yn21,Yn22,Yn23,Yn31,Yn32,Yn33,MNN1,MNN2,MNN3,Omega])\n",
    "\n",
    "x=np.asarray(x)\n",
    "\n",
    "xd=pd.DataFrame(x,columns=['lamL','lam2','lam6','lam7','mmV0','mmA0','mmVm','kp1','kp2','Yn11','Yn12','Yn13','Yn21','Yn22',\n",
    "                          'Yn23','Yn31','Yn32','Yn33','MNN1','MNN2','MNN3','Omega'])\n",
    "\n",
    "xd.to_csv('xd_scan-general.csv')"
   ]
  },
  {
   "cell_type": "code",
   "execution_count": 35,
   "metadata": {},
   "outputs": [
    {
     "data": {
      "text/html": [
       "<div>\n",
       "<style scoped>\n",
       "    .dataframe tbody tr th:only-of-type {\n",
       "        vertical-align: middle;\n",
       "    }\n",
       "\n",
       "    .dataframe tbody tr th {\n",
       "        vertical-align: top;\n",
       "    }\n",
       "\n",
       "    .dataframe thead th {\n",
       "        text-align: right;\n",
       "    }\n",
       "</style>\n",
       "<table border=\"1\" class=\"dataframe\">\n",
       "  <thead>\n",
       "    <tr style=\"text-align: right;\">\n",
       "      <th></th>\n",
       "      <th>lamL</th>\n",
       "      <th>lam2</th>\n",
       "      <th>lam6</th>\n",
       "      <th>lam7</th>\n",
       "      <th>mmV0</th>\n",
       "      <th>mmA0</th>\n",
       "      <th>mmVm</th>\n",
       "      <th>kp1</th>\n",
       "      <th>kp2</th>\n",
       "      <th>Yn11</th>\n",
       "      <th>...</th>\n",
       "      <th>Yn21</th>\n",
       "      <th>Yn22</th>\n",
       "      <th>Yn23</th>\n",
       "      <th>Yn31</th>\n",
       "      <th>Yn32</th>\n",
       "      <th>Yn33</th>\n",
       "      <th>MNN1</th>\n",
       "      <th>MNN2</th>\n",
       "      <th>MNN3</th>\n",
       "      <th>Omega</th>\n",
       "    </tr>\n",
       "  </thead>\n",
       "  <tbody>\n",
       "    <tr>\n",
       "      <th>0</th>\n",
       "      <td>1.0</td>\n",
       "      <td>0.000001</td>\n",
       "      <td>0.000002</td>\n",
       "      <td>0.000003</td>\n",
       "      <td>100.0</td>\n",
       "      <td>101.0</td>\n",
       "      <td>101.1</td>\n",
       "      <td>0.0</td>\n",
       "      <td>0.0</td>\n",
       "      <td>1.59</td>\n",
       "      <td>...</td>\n",
       "      <td>0.0</td>\n",
       "      <td>0.0</td>\n",
       "      <td>0.0</td>\n",
       "      <td>0.0</td>\n",
       "      <td>0.0</td>\n",
       "      <td>0.0</td>\n",
       "      <td>2.0</td>\n",
       "      <td>200.0</td>\n",
       "      <td>300.0</td>\n",
       "      <td>3.560</td>\n",
       "    </tr>\n",
       "    <tr>\n",
       "      <th>1</th>\n",
       "      <td>1.0</td>\n",
       "      <td>0.000001</td>\n",
       "      <td>0.000002</td>\n",
       "      <td>0.000003</td>\n",
       "      <td>100.0</td>\n",
       "      <td>101.0</td>\n",
       "      <td>101.1</td>\n",
       "      <td>0.0</td>\n",
       "      <td>0.0</td>\n",
       "      <td>1.59</td>\n",
       "      <td>...</td>\n",
       "      <td>0.0</td>\n",
       "      <td>0.0</td>\n",
       "      <td>0.0</td>\n",
       "      <td>0.0</td>\n",
       "      <td>0.0</td>\n",
       "      <td>0.0</td>\n",
       "      <td>3.0</td>\n",
       "      <td>200.0</td>\n",
       "      <td>300.0</td>\n",
       "      <td>1.420</td>\n",
       "    </tr>\n",
       "    <tr>\n",
       "      <th>2</th>\n",
       "      <td>1.0</td>\n",
       "      <td>0.000001</td>\n",
       "      <td>0.000002</td>\n",
       "      <td>0.000003</td>\n",
       "      <td>100.0</td>\n",
       "      <td>101.0</td>\n",
       "      <td>101.1</td>\n",
       "      <td>0.0</td>\n",
       "      <td>0.0</td>\n",
       "      <td>1.59</td>\n",
       "      <td>...</td>\n",
       "      <td>0.0</td>\n",
       "      <td>0.0</td>\n",
       "      <td>0.0</td>\n",
       "      <td>0.0</td>\n",
       "      <td>0.0</td>\n",
       "      <td>0.0</td>\n",
       "      <td>4.0</td>\n",
       "      <td>200.0</td>\n",
       "      <td>300.0</td>\n",
       "      <td>0.695</td>\n",
       "    </tr>\n",
       "  </tbody>\n",
       "</table>\n",
       "<p>3 rows × 22 columns</p>\n",
       "</div>"
      ],
      "text/plain": [
       "   lamL      lam2      lam6      lam7   mmV0   mmA0   mmVm  kp1  kp2  Yn11  \\\n",
       "0   1.0  0.000001  0.000002  0.000003  100.0  101.0  101.1  0.0  0.0  1.59   \n",
       "1   1.0  0.000001  0.000002  0.000003  100.0  101.0  101.1  0.0  0.0  1.59   \n",
       "2   1.0  0.000001  0.000002  0.000003  100.0  101.0  101.1  0.0  0.0  1.59   \n",
       "\n",
       "   ...  Yn21  Yn22  Yn23  Yn31  Yn32  Yn33  MNN1   MNN2   MNN3  Omega  \n",
       "0  ...   0.0   0.0   0.0   0.0   0.0   0.0   2.0  200.0  300.0  3.560  \n",
       "1  ...   0.0   0.0   0.0   0.0   0.0   0.0   3.0  200.0  300.0  1.420  \n",
       "2  ...   0.0   0.0   0.0   0.0   0.0   0.0   4.0  200.0  300.0  0.695  \n",
       "\n",
       "[3 rows x 22 columns]"
      ]
     },
     "execution_count": 35,
     "metadata": {},
     "output_type": "execute_result"
    }
   ],
   "source": [
    "#xd=pd.read_csv('xd_scan-general.csv')\n",
    "xd[:3]"
   ]
  },
  {
   "cell_type": "markdown",
   "metadata": {},
   "source": [
    "## Dark matter $\\Omega h^2$"
   ]
  },
  {
   "cell_type": "code",
   "execution_count": 40,
   "metadata": {},
   "outputs": [
    {
     "name": "stdout",
     "output_type": "stream",
     "text": [
      "0.108 0.12 0.132\n"
     ]
    }
   ],
   "source": [
    "#Experimental values for DM:Planck results 2018\n",
    "e = 10\n",
    "Omega = 0.1200\n",
    "Omega_min=Omega - e*0.0012\n",
    "Omega_max=Omega + e*0.0012\n",
    "print( Omega_min, Omega,Omega_max)"
   ]
  },
  {
   "cell_type": "code",
   "execution_count": 41,
   "metadata": {},
   "outputs": [],
   "source": [
    "plt.rc('text', usetex = True)\n",
    "plt.rc('font', family = 'serif')"
   ]
  },
  {
   "cell_type": "code",
   "execution_count": null,
   "metadata": {},
   "outputs": [],
   "source": [
    "xd."
   ]
  },
  {
   "cell_type": "code",
   "execution_count": 52,
   "metadata": {},
   "outputs": [
    {
     "data": {
      "image/png": "[encoded data removed]",
      "text/plain": [
       "<Figure size 500x400 with 1 Axes>"
      ]
     },
     "metadata": {},
     "output_type": "display_data"
    }
   ],
   "source": [
    "plt.figure(figsize=(5,4))\n",
    "\n",
    "plt.semilogy(xd.MNN1,xd.Omega,color='red', marker='.',ms=4,linestyle='')\n",
    "\n",
    "n=np.linspace(xd.MNN1.min(),xd.MNN1.max(),10)\n",
    "plt.fill_between(n,Omega_min,Omega_max,facecolor='grey',alpha=0.4,label=r'$\\Omega h^2$ to $10\\%$ uncertainty')\n",
    "\n",
    "#plt.hlines(Omega_max,0.1,1e4, color='cyan',label=r'')\n",
    "#plt.hlines(Omega_min,0.1,1e4, color='cyan',label=r'')\n",
    "#plt.hlines(Omega,0.1,1e4, 'r',lw=2,label=r'')\n",
    "#plt.text(0.5,0.12,r'0.12',color='black', fontsize=10)\n",
    "\n",
    "plt.xlabel(r'$m_{N^1}$ (GeV)',size=18)\n",
    "plt.ylabel(r'$\\Omega h^2$',size=18)\n",
    "plt.legend(prop={'size':14},shadow=True,loc='best')\n",
    "\n",
    "plt.xlim(xd.MNN1.min(), xd.MNN1.max())\n",
    "plt.tight_layout()\n",
    "\n",
    "#plt.savefig('plots/DM.pdf')\n",
    "plt.show()"
   ]
  },
  {
   "cell_type": "code",
   "execution_count": null,
   "metadata": {},
   "outputs": [],
   "source": []
  }
 ],
 "metadata": {
  "kernelspec": {
   "display_name": "Python 3 (ipykernel)",
   "language": "python",
   "name": "python3"
  },
  "language_info": {
   "codemirror_mode": {
    "name": "ipython",
    "version": 3
   },
   "file_extension": ".py",
   "mimetype": "text/x-python",
   "name": "python",
   "nbconvert_exporter": "python",
   "pygments_lexer": "ipython3",
   "version": "3.12.3"
  }
 },
 "nbformat": 4,
 "nbformat_minor": 4
}
