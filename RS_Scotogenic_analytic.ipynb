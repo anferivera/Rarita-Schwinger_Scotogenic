{
 "cells": [
  {
   "cell_type": "markdown",
   "metadata": {},
   "source": [
    "## IDM-VECTOR-SCAN"
   ]
  },
  {
   "cell_type": "code",
   "execution_count": 1,
   "metadata": {},
   "outputs": [],
   "source": [
    "import pyslha\n",
    "import numpy as np\n",
    "import pandas as pd\n",
    "import subprocess\n",
    "import time\n",
    "import sys\n",
    "import os\n",
    "import signal\n",
    "\n",
    "from io import StringIO\n",
    "\n",
    "%matplotlib inline\n",
    "import matplotlib.pyplot as plt "
   ]
  },
  {
   "cell_type": "code",
   "execution_count": 2,
   "metadata": {},
   "outputs": [],
   "source": [
    "def acoefficient(Yn11,Me,MNN1,mmVm):\n",
    "\n",
    "    r   = MNN1**2.0/(MNN1**2.0+mmVm**2.0)\n",
    "    num = r**2.0\n",
    "          \n",
    "    den = MNN1**2.0*3.24e2*np.pi\n",
    "\n",
    "    acoefficient = Yn11**4.0*num/den\n",
    "\n",
    "    return acoefficient"
   ]
  },
  {
   "cell_type": "code",
   "execution_count": 8,
   "metadata": {},
   "outputs": [],
   "source": [
    "def bcoefficient(Yn11,Me,MNN1,mmVm):\n",
    "    \n",
    "    r   = MNN1**2.0/(MNN1**2.0+mmVm**2.0)\n",
    "    num = r**2.0*(9.0-34.0*r+6.5e1*r**2.0-4.0e1*r**3.0+1.2e1*r**4.0)\n",
    "          \n",
    "    den = MNN1**2.0*1.944e3*np.pi*(r-1.0)**2.0\n",
    "\n",
    "    bcoefficient = Yn11**4.0*num/den\n",
    "\n",
    "    return bcoefficient"
   ]
  },
  {
   "cell_type": "code",
   "execution_count": 9,
   "metadata": {},
   "outputs": [
    {
     "name": "stdout",
     "output_type": "stream",
     "text": [
      "5.894302024883977e-09 8.691398360034558e-09\n"
     ]
    }
   ],
   "source": [
    "Yn11 = 1.59\n",
    "Me   = 0.0\n",
    "MNN1 = 10.0\n",
    "mmVm = 101.1    \n",
    "a=acoefficient(Yn11,Me,MNN1,mmVm)\n",
    "b=bcoefficient(Yn11,Me,MNN1,mmVm)\n",
    "print(a,b)"
   ]
  },
  {
   "cell_type": "code",
   "execution_count": 31,
   "metadata": {},
   "outputs": [
    {
     "name": "stdout",
     "output_type": "stream",
     "text": [
      "1.1958876608327554e-01\n"
     ]
    }
   ],
   "source": [
    "xf    = 2.31e1\n",
    "cs    = 3.0*b/xf\n",
    "g     = 8.5e2\n",
    "omega = 2.08e9*xf/(Mp*np.sqrt(g)*cs)\n",
    "print(f\"{np.format_float_scientific(omega)}\")"
   ]
  },
  {
   "cell_type": "code",
   "execution_count": 20,
   "metadata": {},
   "outputs": [
    {
     "data": {
      "text/plain": [
       "0.4329004329004329"
      ]
     },
     "execution_count": 20,
     "metadata": {},
     "output_type": "execute_result"
    }
   ],
   "source": [
    "10/2.31e1"
   ]
  },
  {
   "cell_type": "code",
   "execution_count": null,
   "metadata": {},
   "outputs": [],
   "source": []
  }
 ],
 "metadata": {
  "kernelspec": {
   "display_name": "Python 3 (ipykernel)",
   "language": "python",
   "name": "python3"
  },
  "language_info": {
   "codemirror_mode": {
    "name": "ipython",
    "version": 3
   },
   "file_extension": ".py",
   "mimetype": "text/x-python",
   "name": "python",
   "nbconvert_exporter": "python",
   "pygments_lexer": "ipython3",
   "version": "3.12.3"
  }
 },
 "nbformat": 4,
 "nbformat_minor": 4
}
